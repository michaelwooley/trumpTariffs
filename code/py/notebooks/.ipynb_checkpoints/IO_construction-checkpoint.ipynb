{
 "cells": [
  {
   "cell_type": "markdown",
   "metadata": {},
   "source": [
    "# Industry Input-Output Tables and Trade Linkages\n",
    "\n",
    "_8 March 2018_\n",
    "\n",
    "This notebook is part of a project on industrial effects related to soon-to-be announced tariffs for the U.S. It describes the construction of U.S. Input-Output tables and linkages."
   ]
  },
  {
   "cell_type": "markdown",
   "metadata": {},
   "source": [
    "#### Computer-Specific Code Setup\n",
    "\n",
    "Following lines should be run once. You may need to change this if you're not running this on MW's machine."
   ]
  },
  {
   "cell_type": "markdown",
   "metadata": {},
   "source": [
    "## Data Sources\n",
    "\n",
    "We're making use of the BEA's IO tables in summary form (71 industries last updated in 2016). The main tables are:\n",
    "\n",
    "- **Use Table (After Redefinitions).** _[Add info]_\n",
    "\n",
    "#### Useful Resources/Documentation\n",
    "\n",
    "- [Concepts and Methods of the U.S. Input-Output Accounts](https://www.bea.gov/papers/pdf/IOmanual_092906.pdf) Full BEA documentation of IO Accounting\n",
    "- [Introducing Domestic Requirements Tables for 1997–2015](https://www.bea.gov/scb/pdf/2017/03%20March/0317_introducing_domestic_requirement_tables.pdf) Primer on how requirements tables work."
   ]
  },
  {
   "cell_type": "markdown",
   "metadata": {},
   "source": [
    "## Discussion of Derivation\n",
    "The IO documentation suggests using\n",
    "\n",
    "$$\n",
    "\\left[\\mathbf{I} -\\left(\\mathbf{I}-\\text{diag}\\left(\\mathbf{s}\\right)\\right)^{-1}\\mathbf{M}\\text{diag}^{-1}\\left(\\mathbf{q}_{d}\\right)\\mathbf{U}\\text{diag}^{-1}\\left(\\mathbf{q}_{s}\\right)\\right]^{-1}\n",
    "$$\n",
    "as the total requirements matrix. Here, $\\left(\\mathbf{I}-\\text{diag}\\left(\\mathbf{s}\\right)\\right)$ is a term that accounts for the amount of output that goes to scrap in production.\n",
    "\n",
    "There isn't much intuition given for the formulation. \n",
    "The odd thing is that they don't mention anything about that in the direct requirements context. \n",
    "\n",
    "I'm going to use that and \n",
    "\n",
    "$$\n",
    "\\left(\\mathbf{I}-\\text{diag}\\left(\\mathbf{s}\\right)\\right)^{-1}\\mathbf{M}\\text{diag}^{-1}\\left(\\mathbf{q}_{d}\\right)\\mathbf{U}\\text{diag}^{-1}\\left(\\mathbf{q}_{s}\\right)\n",
    "$$\n",
    "\n",
    "as the direct requirements matrix while avoiding the scraps when discussing the intuition for what is happening."
   ]
  },
  {
   "cell_type": "code",
   "execution_count": 2,
   "metadata": {
    "ExecuteTime": {
     "end_time": "2018-03-09T13:27:49.733485Z",
     "start_time": "2018-03-09T13:27:49.698542Z"
    },
    "collapsed": true
   },
   "outputs": [],
   "source": [
    "%matplotlib inline\n",
    "%config InlineBackend.figure_format = 'retina'"
   ]
  },
  {
   "cell_type": "code",
   "execution_count": 3,
   "metadata": {
    "ExecuteTime": {
     "end_time": "2018-03-09T13:27:49.773998Z",
     "start_time": "2018-03-09T13:27:49.736061Z"
    },
    "collapsed": true
   },
   "outputs": [],
   "source": [
    "# May need to reset working directory\n",
    "# Used for relative paths below\n",
    "import os \n",
    "wkdir = '/home/michael/Dropbox/grantThornton/projects/tariffsTrump/code/py'\n",
    "os.chdir(wkdir)"
   ]
  },
  {
   "cell_type": "code",
   "execution_count": 4,
   "metadata": {
    "ExecuteTime": {
     "end_time": "2018-03-09T13:27:49.831261Z",
     "start_time": "2018-03-09T13:27:49.776704Z"
    },
    "collapsed": true
   },
   "outputs": [],
   "source": [
    "import pandas as pd\n",
    "import numpy as np\n",
    "import matplotlib.pyplot as plt\n",
    "import pickle"
   ]
  },
  {
   "cell_type": "markdown",
   "metadata": {},
   "source": [
    "### Make and Use Tables"
   ]
  },
  {
   "cell_type": "code",
   "execution_count": 5,
   "metadata": {
    "ExecuteTime": {
     "end_time": "2018-03-09T13:27:51.113753Z",
     "start_time": "2018-03-09T13:27:49.833926Z"
    },
    "collapsed": true
   },
   "outputs": [],
   "source": [
    "ut = pd.read_excel(\n",
    "  '../data/raw/IOUse_After_Redefinitions_PRO_2007_Detail.xlsx',\n",
    "  sheetname='2007',\n",
    "  skiprows=5,\n",
    "  skipfooter=3,\n",
    "  index_col=0,\n",
    "  na_values='...'\n",
    ")\n",
    "\n",
    "ut.index = [str(idx) for idx in ut.index]\n",
    "ut.columns = [str(col) for col in ut.columns]\n",
    "ut.fillna(0, inplace=True)\n",
    "\n",
    "# Save commodity names for later\n",
    "comm_names = ut['Commodity Description']\n",
    "ut.drop('Commodity Description', axis=1, inplace=True)\n",
    "\n",
    "# Remove Total Commodity Output Columns\n",
    "ut.drop(['S00101', 'S00201', 'S00202','T001', 'F01000', 'F02S00', 'F02E00', 'F02N00', 'F02R00', 'F03000', 'F04000', 'F05000', 'F06C00', 'F06S00', 'F06E00', 'F06N00', 'F07C00', 'F07S00', 'F07E00', 'F07N00', 'F10C00', 'F10S00', 'F10E00', 'F10N00', 'T004', 'T007'], axis=1, inplace=True)\n",
    "\n",
    "# Input costs\n",
    "ic = ut.loc['T005'].T\n",
    "# Wages\n",
    "wages = ut.loc['V00100'].T\n",
    "# Taxes\n",
    "tax = ut.loc['V00200'].T\n",
    "# Total Cost\n",
    "tc = ic + wages + tax\n",
    "# Total Industry OUTPUT\n",
    "Yi = ut.loc['T008'].T\n",
    "\n",
    "# Scrap share\n",
    "scrap = ut.loc['S00401'].T / Yi\n",
    "\n",
    "ut.drop(['S00401', 'S00402', 'S00300','T005','V00100', 'V00200', 'V00300', 'T006', 'T008'], axis=0, inplace=True)"
   ]
  },
  {
   "cell_type": "code",
   "execution_count": 6,
   "metadata": {
    "ExecuteTime": {
     "end_time": "2018-03-09T13:27:52.133139Z",
     "start_time": "2018-03-09T13:27:51.116026Z"
    },
    "collapsed": true
   },
   "outputs": [],
   "source": [
    "mt = pd.read_excel(\n",
    "  '../data/raw/IOMake_After_Redefinitions_2007_Detail.xlsx',\n",
    "  sheetname='2007',\n",
    "  skiprows=5,\n",
    "  skipfooter=2,\n",
    "  index_col=0,\n",
    "  na_values='...'\n",
    ")\n",
    "\n",
    "mt.index = [str(idx) for idx in mt.index]\n",
    "mt.columns = [str(col) for col in mt.columns]\n",
    "mt.fillna(0, inplace=True)\n",
    "\n",
    "# Industry names\n",
    "ind_names = mt['Industry Description']\n",
    "mt.drop('Industry Description', axis=1, inplace=True)\n",
    "\n",
    "# Remove Total Commodity Output Columns\n",
    "mt.drop(['S00101', 'S00201', 'S00202','S00401','T008', 'S00401', 'S00402', 'S00300'], axis=1, inplace=True)\n",
    "\n",
    "# Total Commodity OUTPUT\n",
    "Yc = mt.loc['T007'].T\n",
    "mt.drop(['S00101', 'S00201', 'S00202','T007'], axis=0, inplace=True)"
   ]
  },
  {
   "cell_type": "code",
   "execution_count": 7,
   "metadata": {
    "ExecuteTime": {
     "end_time": "2018-03-09T13:27:52.463919Z",
     "start_time": "2018-03-09T13:27:52.134695Z"
    }
   },
   "outputs": [
    {
     "ename": "NameError",
     "evalue": "name 'TC' is not defined",
     "output_type": "error",
     "traceback": [
      "\u001b[0;31m---------------------------------------------------------------------------\u001b[0m",
      "\u001b[0;31mNameError\u001b[0m                                 Traceback (most recent call last)",
      "\u001b[0;32m<ipython-input-7-8cace3fe12c4>\u001b[0m in \u001b[0;36m<module>\u001b[0;34m()\u001b[0m\n\u001b[0;32m----> 1\u001b[0;31m \u001b[0mprint\u001b[0m\u001b[0;34m(\u001b[0m\u001b[0mmt\u001b[0m\u001b[0;34m.\u001b[0m\u001b[0mshape\u001b[0m\u001b[0;34m,\u001b[0m \u001b[0mut\u001b[0m\u001b[0;34m.\u001b[0m\u001b[0mshape\u001b[0m\u001b[0;34m,\u001b[0m \u001b[0mTC\u001b[0m\u001b[0;34m.\u001b[0m\u001b[0mshape\u001b[0m\u001b[0;34m,\u001b[0m \u001b[0mYc\u001b[0m\u001b[0;34m.\u001b[0m\u001b[0mshape\u001b[0m\u001b[0;34m)\u001b[0m\u001b[0;34m\u001b[0m\u001b[0m\n\u001b[0m",
      "\u001b[0;31mNameError\u001b[0m: name 'TC' is not defined"
     ]
    }
   ],
   "source": [
    "# print(mt.shape, ut.shape, TC.shape, Yc.shape)"
   ]
  },
  {
   "cell_type": "markdown",
   "metadata": {
    "ExecuteTime": {
     "end_time": "2018-03-08T22:29:26.113172Z",
     "start_time": "2018-03-08T22:29:24.660Z"
    }
   },
   "source": [
    "## Direct Requirements"
   ]
  },
  {
   "cell_type": "code",
   "execution_count": null,
   "metadata": {
    "ExecuteTime": {
     "end_time": "2018-03-09T13:27:52.469131Z",
     "start_time": "2018-03-09T13:27:49.723Z"
    },
    "collapsed": true
   },
   "outputs": [],
   "source": [
    "II, CC = mt.shape\n",
    "M = mt.values\n",
    "U = ut.values\n",
    "s = scrap.values\n",
    "TC = tc.values\n",
    "IC = ic.values\n"
   ]
  },
  {
   "cell_type": "code",
   "execution_count": null,
   "metadata": {
    "ExecuteTime": {
     "end_time": "2018-03-09T13:27:52.471586Z",
     "start_time": "2018-03-09T13:27:49.726Z"
    },
    "collapsed": true
   },
   "outputs": [],
   "source": [
    "SCRAP_LOSS = np.linalg.inv(np.eye(II) - np.diag(s))\n",
    "MS = M.dot(np.diag(1/Yc))\n",
    "DRci = U.dot(np.diag(1/Yi))\n",
    "DR = SCRAP_LOSS.dot(MS.dot(DRci))\n",
    "\n",
    "DRdf = pd.DataFrame(DR, index=mt.index, columns=mt.index)"
   ]
  },
  {
   "cell_type": "markdown",
   "metadata": {
    "ExecuteTime": {
     "end_time": "2018-03-08T23:45:42.199320Z",
     "start_time": "2018-03-08T23:45:42.170709Z"
    },
    "collapsed": true
   },
   "source": [
    "## Total Requirements"
   ]
  },
  {
   "cell_type": "code",
   "execution_count": null,
   "metadata": {
    "ExecuteTime": {
     "end_time": "2018-03-09T13:27:52.475967Z",
     "start_time": "2018-03-09T13:27:49.728Z"
    },
    "collapsed": true
   },
   "outputs": [],
   "source": [
    "TR = np.linalg.inv(np.eye(II) - DR)\n",
    "TRdf = pd.DataFrame(TR, index=mt.index, columns=mt.index)"
   ]
  },
  {
   "cell_type": "markdown",
   "metadata": {},
   "source": [
    "### Illustration of Asymptotic Result"
   ]
  },
  {
   "cell_type": "code",
   "execution_count": null,
   "metadata": {
    "ExecuteTime": {
     "end_time": "2018-03-09T13:27:52.478914Z",
     "start_time": "2018-03-09T13:27:49.730Z"
    },
    "collapsed": true
   },
   "outputs": [],
   "source": [
    "idxX = np.random.choice(DR.shape[0], 20)\n",
    "idxY = np.random.choice(DR.shape[1], 20)\n",
    "\n",
    "trtp = TR[idxX,idxY]"
   ]
  },
  {
   "cell_type": "code",
   "execution_count": null,
   "metadata": {
    "ExecuteTime": {
     "end_time": "2018-03-09T13:27:52.481123Z",
     "start_time": "2018-03-09T13:27:49.732Z"
    },
    "collapsed": true
   },
   "outputs": [],
   "source": [
    "dd = [np.eye(II)]\n",
    "dds = [np.eye(II)]\n",
    "ddf = [np.eye(II)[idxX,idxY]]\n",
    "for ii in range(25):\n",
    "    dd.append(dd[-1].dot(DR))\n",
    "    dds.append(dds[-1]+dd[-1])\n",
    "    ddf.append(dds[-1][idxX,idxY])\n",
    "    \n",
    "ddf = np.vstack(ddf)"
   ]
  },
  {
   "cell_type": "code",
   "execution_count": null,
   "metadata": {
    "ExecuteTime": {
     "end_time": "2018-03-09T13:27:52.483176Z",
     "start_time": "2018-03-09T13:27:49.735Z"
    }
   },
   "outputs": [],
   "source": [
    "fig,axes = plt.subplots(4,5,sharex=True, sharey=False, figsize=(10,10))\n",
    "axes = axes.flatten()\n",
    "\n",
    "for ii,ax in enumerate(axes):\n",
    "    ax.plot(ddf[:,ii])\n",
    "    ax.axhline(trtp[ii], c='r')"
   ]
  },
  {
   "cell_type": "code",
   "execution_count": null,
   "metadata": {
    "ExecuteTime": {
     "end_time": "2018-03-09T13:27:52.485039Z",
     "start_time": "2018-03-09T13:27:49.739Z"
    },
    "collapsed": true
   },
   "outputs": [],
   "source": [
    "DRdf.to_pickle('../data/int/DR_io_table.pkl')"
   ]
  }
 ],
 "metadata": {
  "hide_input": false,
  "kernelspec": {
   "display_name": "Python 3",
   "language": "python",
   "name": "python3"
  },
  "language_info": {
   "codemirror_mode": {
    "name": "ipython",
    "version": 3
   },
   "file_extension": ".py",
   "mimetype": "text/x-python",
   "name": "python",
   "nbconvert_exporter": "python",
   "pygments_lexer": "ipython3",
   "version": "3.6.2"
  },
  "toc": {
   "nav_menu": {},
   "number_sections": false,
   "sideBar": true,
   "skip_h1_title": true,
   "toc_cell": false,
   "toc_position": {},
   "toc_section_display": "block",
   "toc_window_display": false
  },
  "varInspector": {
   "cols": {
    "lenName": 16,
    "lenType": 16,
    "lenVar": 40
   },
   "kernels_config": {
    "python": {
     "delete_cmd_postfix": "",
     "delete_cmd_prefix": "del ",
     "library": "var_list.py",
     "varRefreshCmd": "print(var_dic_list())"
    },
    "r": {
     "delete_cmd_postfix": ") ",
     "delete_cmd_prefix": "rm(",
     "library": "var_list.r",
     "varRefreshCmd": "cat(var_dic_list()) "
    }
   },
   "types_to_exclude": [
    "module",
    "function",
    "builtin_function_or_method",
    "instance",
    "_Feature"
   ],
   "window_display": false
  }
 },
 "nbformat": 4,
 "nbformat_minor": 2
}
